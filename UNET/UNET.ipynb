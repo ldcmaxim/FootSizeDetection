{
 "cells": [
  {
   "cell_type": "code",
   "execution_count": 1,
   "metadata": {},
   "outputs": [
    {
     "name": "stderr",
     "output_type": "stream",
     "text": [
      "Using TensorFlow backend.\n"
     ]
    }
   ],
   "source": [
    "from model import *\n",
    "from data import *"
   ]
  },
  {
   "cell_type": "code",
   "execution_count": null,
   "metadata": {},
   "outputs": [
    {
     "name": "stdout",
     "output_type": "stream",
     "text": [
      "Found 47 images belonging to 1 classes.\n",
      "Found 47 images belonging to 1 classes.\n"
     ]
    }
   ],
   "source": [
    "data_gen_args = dict(rotation_range=360,\n",
    "                    width_shift_range=0.05,\n",
    "                    height_shift_range=0.05,\n",
    "                    shear_range=0.05,\n",
    "                    zoom_range=0.05,\n",
    "                    horizontal_flip=True,\n",
    "                    fill_mode='nearest')\n",
    "myGene = trainGenerator(16,'./Data','image','label',data_gen_args,save_to_dir = None)\n",
    "\n",
    "num_batch = 256\n",
    "for i,batch in enumerate(myGene):\n",
    "    if(i >= num_batch):\n",
    "        break"
   ]
  },
  {
   "cell_type": "code",
   "execution_count": null,
   "metadata": {},
   "outputs": [],
   "source": [
    "model = unet()\n",
    "model_checkpoint = ModelCheckpoint('unet.hdf5', monitor='loss',verbose=1, save_best_only=True)\n",
    "model.fit_generator(myGene,steps_per_epoch=500,epochs=20,callbacks=[model_checkpoint])"
   ]
  },
  {
   "cell_type": "code",
   "execution_count": null,
   "metadata": {},
   "outputs": [],
   "source": [
    "import cv2,glob\n",
    "import matplotlib.pyplot as plt\n",
    "\n",
    "TARGET_SIZE = (256,256)\n",
    "def preprocesss(img):\n",
    "\n",
    "    img = trans.resize(img, TARGET_SIZE)\n",
    "    img = np.reshape(img, img.shape + (1,)) if (not False) else img\n",
    "    img = np.reshape(img, (1,) + img.shape)\n",
    "    return img\n",
    "\n",
    "\n",
    "def get_mask(width,height,npyfile):\n",
    "\n",
    "    for i,item in enumerate(npyfile):\n",
    "\n",
    "        img = item[:,:,0]\n",
    "        img = trans.resize(img, (width, height))\n",
    "\n",
    "        return img\n",
    "\n",
    "\n",
    "def predict_unet(img,model):\n",
    "\n",
    "\n",
    "    width, height = img.shape\n",
    "\n",
    "    img = preprocesss(img)\n",
    "\n",
    "\n",
    "#     with graph.as_default():\n",
    "    mask = model.predict(img)\n",
    "\n",
    "\n",
    "    mask = get_mask(width, height, mask)\n",
    "    \n",
    "    return mask"
   ]
  },
  {
   "cell_type": "code",
   "execution_count": null,
   "metadata": {},
   "outputs": [],
   "source": [
    "model=unet(pretrained_weights='./unet.hdf5')\n",
    "for filename in glob.glob(\"/additional_drive/FahadAli/MarkerDetection/UNET/Test/NewTest/*.*g\"):\n",
    "    \n",
    "    print(filename)\n",
    "    image = cv2.imread(filename)\n",
    "    image = cv2.cvtColor(image,cv2.COLOR_BGR2GRAY)\n",
    "    plt.imshow(image,cmap='gray')\n",
    "    plt.show()\n",
    "    mask = predict_unet(image,model)\n",
    "    plt.imshow(mask,cmap='gray')\n",
    "    plt.show()\n",
    "    cv2.imwrite(\"/additional_drive/FahadAli/MarkerDetection/UNET/Results/\" + filename,mask)\n",
    "    \n",
    "    \n",
    "    "
   ]
  },
  {
   "cell_type": "code",
   "execution_count": null,
   "metadata": {},
   "outputs": [],
   "source": []
  }
 ],
 "metadata": {
  "kernelspec": {
   "display_name": "Python [conda env:mrcnn]",
   "language": "python",
   "name": "conda-env-mrcnn-py"
  },
  "language_info": {
   "codemirror_mode": {
    "name": "ipython",
    "version": 3
   },
   "file_extension": ".py",
   "mimetype": "text/x-python",
   "name": "python",
   "nbconvert_exporter": "python",
   "pygments_lexer": "ipython3",
   "version": "3.6.7"
  }
 },
 "nbformat": 4,
 "nbformat_minor": 2
}
